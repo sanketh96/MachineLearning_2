{
 "cells": [
  {
   "cell_type": "markdown",
   "metadata": {},
   "source": [
    "# Given 2 datasets, find which dataset represents linear data and find the equation satisfied by the underlying data"
   ]
  },
  {
   "cell_type": "code",
   "execution_count": null,
   "metadata": {
    "collapsed": true
   },
   "outputs": [],
   "source": [
    "import tensorflow as tf\n",
    "import numpy as np"
   ]
  },
  {
   "cell_type": "code",
   "execution_count": 3,
   "metadata": {
    "collapsed": true
   },
   "outputs": [],
   "source": [
    "dataset = tf.contrib.learn.datasets.base.load_csv_without_header(\n",
    "                    filename=\"ds2.csv\",\n",
    "                    target_dtype=np.float32,\n",
    "                    features_dtype=np.float32\n",
    "                )"
   ]
  },
  {
   "cell_type": "code",
   "execution_count": 4,
   "metadata": {},
   "outputs": [
    {
     "name": "stdout",
     "output_type": "stream",
     "text": [
      "Dataset(data=array([[-194.35032654],\n",
      "       [ 924.17407227],\n",
      "       [-241.93574524],\n",
      "       ..., \n",
      "       [ 784.24462891],\n",
      "       [-214.30223083],\n",
      "       [ 494.30838013]], dtype=float32), target=array([ -317.83059692,  1695.51330566,  -403.48431396, ...,  1443.64038086,\n",
      "        -353.74398804,   921.75512695], dtype=float32))\n",
      "1249.83\n",
      "2249.7\n"
     ]
    }
   ],
   "source": [
    "print(dataset) \n",
    "print(np.max(dataset.data)-np.min(dataset.data))\n",
    "print(np.max(dataset.target)-np.min(dataset.target))"
   ]
  },
  {
   "cell_type": "code",
   "execution_count": 5,
   "metadata": {},
   "outputs": [],
   "source": [
    "# Input function to be provided to the estimator\n",
    "# Data has been normalised\n",
    "\n",
    "train_input_fn = tf.estimator.inputs.numpy_input_fn(\n",
    "                    x = {\"x\": np.array(dataset.data) / (np.max(dataset.data) - np.min(dataset.data))},\n",
    "                    y = np.array(dataset.target) / (np.max(dataset.target) - np.min(dataset.target)),\n",
    "                    #x={\"x\": np.array(dataset.data),\n",
    "                    #y=np.array(dataset.target)\n",
    "                    batch_size = 32,\n",
    "                    shuffle = True\n",
    "                )"
   ]
  },
  {
   "cell_type": "code",
   "execution_count": 7,
   "metadata": {
    "collapsed": true
   },
   "outputs": [],
   "source": [
    "# Defining the feature column\n",
    "\n",
    "fc = [tf.feature_column.numeric_column(\"x\")]"
   ]
  },
  {
   "cell_type": "code",
   "execution_count": 8,
   "metadata": {},
   "outputs": [
    {
     "name": "stdout",
     "output_type": "stream",
     "text": [
      "INFO:tensorflow:Using default config.\n",
      "WARNING:tensorflow:Using temporary folder as model directory: /tmp/tmp25ynjzjv\n",
      "INFO:tensorflow:Using config: {'_model_dir': '/tmp/tmp25ynjzjv', '_tf_random_seed': None, '_save_summary_steps': 100, '_save_checkpoints_steps': None, '_save_checkpoints_secs': 600, '_session_config': None, '_keep_checkpoint_max': 5, '_keep_checkpoint_every_n_hours': 10000, '_log_step_count_steps': 100, '_service': None, '_cluster_spec': <tensorflow.python.training.server_lib.ClusterSpec object at 0x7f9cee266908>, '_task_type': 'worker', '_task_id': 0, '_master': '', '_is_chief': True, '_num_ps_replicas': 0, '_num_worker_replicas': 1}\n"
     ]
    }
   ],
   "source": [
    "# Defining the model\n",
    "\n",
    "model = tf.estimator.LinearRegressor(feature_columns = fc, \n",
    "                                     optimizer = tf.train.FtrlOptimizer(learning_rate=0.1,l1_regularization_strength=0.001)\n",
    "                                    )"
   ]
  },
  {
   "cell_type": "code",
   "execution_count": 9,
   "metadata": {},
   "outputs": [
    {
     "name": "stdout",
     "output_type": "stream",
     "text": [
      "INFO:tensorflow:Create CheckpointSaverHook.\n",
      "INFO:tensorflow:Saving checkpoints for 1 into /tmp/tmp25ynjzjv/model.ckpt.\n",
      "INFO:tensorflow:loss = 4.36823, step = 1\n",
      "INFO:tensorflow:global_step/sec: 580.6\n",
      "INFO:tensorflow:loss = 0.0145669, step = 101 (0.173 sec)\n",
      "INFO:tensorflow:global_step/sec: 605.277\n",
      "INFO:tensorflow:loss = 0.000151921, step = 201 (0.165 sec)\n",
      "INFO:tensorflow:global_step/sec: 590.035\n",
      "INFO:tensorflow:loss = 1.43965e-06, step = 301 (0.170 sec)\n",
      "INFO:tensorflow:Saving checkpoints for 313 into /tmp/tmp25ynjzjv/model.ckpt.\n",
      "INFO:tensorflow:Loss for final step: 4.61598e-07.\n"
     ]
    }
   ],
   "source": [
    "# Training the model\n",
    "\n",
    "trained_model = model.train(input_fn = train_input_fn, steps=2000)"
   ]
  },
  {
   "cell_type": "markdown",
   "metadata": {},
   "source": [
    "## Finding weight and bias of the linear dataset"
   ]
  },
  {
   "cell_type": "code",
   "execution_count": 12,
   "metadata": {},
   "outputs": [
    {
     "name": "stdout",
     "output_type": "stream",
     "text": [
      "INFO:tensorflow:Restoring parameters from /tmp/tmp25ynjzjv/model.ckpt-313\n"
     ]
    },
    {
     "data": {
      "text/plain": [
       "0.7534312"
      ]
     },
     "execution_count": 12,
     "metadata": {},
     "output_type": "execute_result"
    }
   ],
   "source": [
    "# Equation of line => y = wx + b\n",
    "\n",
    "# Predict for x = 0 => y = b {we get bias}\n",
    "# Predict for another random point and we get w \n",
    "# Denormalise the obtained values because the model is trained on the normalised dataset\n",
    "\n",
    "new_samples = np.array(\n",
    "    [[0.7394398216317419]], dtype=np.float32)\n",
    "\n",
    "predict_input_fn = tf.estimator.inputs.numpy_input_fn(\n",
    "    x={\"x\": new_samples},\n",
    "    num_epochs=1,\n",
    "    shuffle=False)\n",
    "\n",
    "predictions = list(trained_model.predict(input_fn=predict_input_fn))\n",
    "bias = predictions[0]['predictions'][0]\n",
    "bias"
   ]
  },
  {
   "cell_type": "code",
   "execution_count": 14,
   "metadata": {},
   "outputs": [
    {
     "data": {
      "text/plain": [
       "'\\n    1.7970752568397304x + 33.101545871999996\\n'"
      ]
     },
     "execution_count": 14,
     "metadata": {},
     "output_type": "execute_result"
    }
   ],
   "source": [
    "# Equation of the linear dataset obtained\n",
    "\n",
    "'''\n",
    "    1.7970752568397304x + 33.101545871999996\n",
    "'''\n",
    "\n",
    "# It is the equation of conversion of celcius to fahrenheit"
   ]
  },
  {
   "cell_type": "markdown",
   "metadata": {},
   "source": [
    "## Visualising the datasets"
   ]
  },
  {
   "cell_type": "code",
   "execution_count": 76,
   "metadata": {
    "collapsed": true
   },
   "outputs": [],
   "source": [
    "%matplotlib inline\n",
    "import matplotlib.pyplot as plt\n",
    "import pandas as pd"
   ]
  },
  {
   "cell_type": "code",
   "execution_count": 79,
   "metadata": {
    "collapsed": true
   },
   "outputs": [],
   "source": [
    "ds1 = pd.read_csv(\"ds1.csv\", header=None)\n",
    "ds2 = pd.read_csv(\"ds2.csv\", header=None)\n",
    "ds3 = pd.read_csv(\"ds3.csv\", header=None)"
   ]
  },
  {
   "cell_type": "code",
   "execution_count": 80,
   "metadata": {},
   "outputs": [
    {
     "data": {
      "text/plain": [
       "<matplotlib.collections.PathCollection at 0x7fe252791048>"
      ]
     },
     "execution_count": 80,
     "metadata": {},
     "output_type": "execute_result"
    },
    {
     "data": {
      "image/png": "[encoded data removed]",
      "text/plain": [
       "<matplotlib.figure.Figure at 0x7fe25bff0898>"
      ]
     },
     "metadata": {},
     "output_type": "display_data"
    }
   ],
   "source": [
    "plt.scatter(ds1[0], ds1[1])"
   ]
  },
  {
   "cell_type": "code",
   "execution_count": 81,
   "metadata": {},
   "outputs": [
    {
     "data": {
      "text/plain": [
       "<matplotlib.collections.PathCollection at 0x7fe252748630>"
      ]
     },
     "execution_count": 81,
     "metadata": {},
     "output_type": "execute_result"
    },
    {
     "data": {
      "image/png": "[encoded data removed]",
      "text/plain": [
       "<matplotlib.figure.Figure at 0x7fe25bf69ef0>"
      ]
     },
     "metadata": {},
     "output_type": "display_data"
    }
   ],
   "source": [
    "plt.scatter(ds2[0], ds2[1])"
   ]
  }
 ],
 "metadata": {
  "kernelspec": {
   "display_name": "Python 3",
   "language": "python",
   "name": "python3"
  },
  "language_info": {
   "codemirror_mode": {
    "name": "ipython",
    "version": 3
   },
   "file_extension": ".py",
   "mimetype": "text/x-python",
   "name": "python",
   "nbconvert_exporter": "python",
   "pygments_lexer": "ipython3",
   "version": "3.6.3"
  }
 },
 "nbformat": 4,
 "nbformat_minor": 2
}
