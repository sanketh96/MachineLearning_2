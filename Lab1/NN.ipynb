{
 "cells": [
  {
   "cell_type": "markdown",
   "metadata": {},
   "source": [
    "# Fit a DNN classifier on the dataset ds3.csv"
   ]
  },
  {
   "cell_type": "code",
   "execution_count": 1,
   "metadata": {},
   "outputs": [
    {
     "name": "stderr",
     "output_type": "stream",
     "text": [
      "/home/shahidikram0701/anaconda3/lib/python3.6/importlib/_bootstrap.py:219: RuntimeWarning: compiletime version 3.5 of module 'tensorflow.python.framework.fast_tensor_util' does not match runtime version 3.6\n",
      "  return f(*args, **kwds)\n"
     ]
    }
   ],
   "source": [
    "import tensorflow as tf\n",
    "import numpy as np"
   ]
  },
  {
   "cell_type": "code",
   "execution_count": 12,
   "metadata": {},
   "outputs": [
    {
     "data": {
      "text/plain": [
       "Dataset(data=array([[ 0.68791151,  0.49767888],\n",
       "       [ 1.42100215,  0.71396512],\n",
       "       [ 3.40471697, -0.17311409],\n",
       "       ..., \n",
       "       [ 1.88879943,  0.79545438],\n",
       "       [ 2.92687631,  0.1415787 ],\n",
       "       [ 2.49615979,  0.40974316]], dtype=float32), target=array([ 2.,  1.,  1., ...,  2.,  1.,  1.], dtype=float32))"
      ]
     },
     "execution_count": 12,
     "metadata": {},
     "output_type": "execute_result"
    }
   ],
   "source": [
    "dataset = tf.contrib.learn.datasets.base.load_csv_without_header(\n",
    "                    filename=\"ds3.csv\",\n",
    "                    target_dtype=np.float32,\n",
    "                    features_dtype=np.float32\n",
    "                )\n",
    "dataset"
   ]
  },
  {
   "cell_type": "code",
   "execution_count": 3,
   "metadata": {},
   "outputs": [
    {
     "data": {
      "text/plain": [
       "array([ 1.,  0.,  0., ...,  1.,  0.,  0.], dtype=float32)"
      ]
     },
     "execution_count": 3,
     "metadata": {},
     "output_type": "execute_result"
    }
   ],
   "source": [
    "temp = np.array(dataset.target)\n",
    "temp[temp == 1] = 0\n",
    "temp[temp == 2] = 1\n",
    "temp"
   ]
  },
  {
   "cell_type": "code",
   "execution_count": 17,
   "metadata": {
    "collapsed": true
   },
   "outputs": [],
   "source": [
    "train_input_fn = tf.estimator.inputs.numpy_input_fn(\n",
    "                    x={\"x\": np.array(dataset.data)},\n",
    "                    y=temp,\n",
    "                    #x={\"x\": np.array(dataset.data),\n",
    "                    #y=np.array(dataset.target)\n",
    "                    batch_size = 1,\n",
    "                    num_epochs=10,\n",
    "                    shuffle=False\n",
    "                )"
   ]
  },
  {
   "cell_type": "code",
   "execution_count": 5,
   "metadata": {
    "collapsed": true
   },
   "outputs": [],
   "source": [
    "feature_columns = [tf.feature_column.numeric_column(\"x\", shape=[2])]"
   ]
  },
  {
   "cell_type": "code",
   "execution_count": 13,
   "metadata": {},
   "outputs": [
    {
     "name": "stdout",
     "output_type": "stream",
     "text": [
      "INFO:tensorflow:Using default config.\n",
      "WARNING:tensorflow:Using temporary folder as model directory: /tmp/tmpujzxk324\n",
      "INFO:tensorflow:Using config: {'_model_dir': '/tmp/tmpujzxk324', '_tf_random_seed': None, '_save_summary_steps': 100, '_save_checkpoints_steps': None, '_save_checkpoints_secs': 600, '_session_config': None, '_keep_checkpoint_max': 5, '_keep_checkpoint_every_n_hours': 10000, '_log_step_count_steps': 100, '_service': None, '_cluster_spec': <tensorflow.python.training.server_lib.ClusterSpec object at 0x7f0134a83240>, '_task_type': 'worker', '_task_id': 0, '_master': '', '_is_chief': True, '_num_ps_replicas': 0, '_num_worker_replicas': 1}\n"
     ]
    }
   ],
   "source": [
    "classifier = tf.estimator.DNNClassifier(feature_columns=feature_columns,\n",
    "                                          hidden_units=[20],\n",
    "                                          n_classes=2,\n",
    "                                         optimizer=tf.train.ProximalAdagradOptimizer(\n",
    "      learning_rate=0.1,\n",
    "      l1_regularization_strength=0.001\n",
    "    ))\n",
    "\n",
    "                                        \n"
   ]
  },
  {
   "cell_type": "code",
   "execution_count": 14,
   "metadata": {
    "scrolled": true
   },
   "outputs": [
    {
     "name": "stdout",
     "output_type": "stream",
     "text": [
      "INFO:tensorflow:Create CheckpointSaverHook.\n",
      "INFO:tensorflow:Saving checkpoints for 1 into /tmp/tmpujzxk324/model.ckpt.\n",
      "INFO:tensorflow:loss = 0.803211, step = 1\n",
      "INFO:tensorflow:global_step/sec: 1064.01\n",
      "INFO:tensorflow:loss = 0.667125, step = 101 (0.097 sec)\n",
      "INFO:tensorflow:global_step/sec: 1273.43\n",
      "INFO:tensorflow:loss = 0.876537, step = 201 (0.078 sec)\n",
      "INFO:tensorflow:global_step/sec: 1567.79\n",
      "INFO:tensorflow:loss = 0.70839, step = 301 (0.064 sec)\n",
      "INFO:tensorflow:global_step/sec: 1451.22\n",
      "INFO:tensorflow:loss = 0.566743, step = 401 (0.069 sec)\n",
      "INFO:tensorflow:global_step/sec: 1452.31\n",
      "INFO:tensorflow:loss = 0.960741, step = 501 (0.069 sec)\n",
      "INFO:tensorflow:global_step/sec: 1355.28\n",
      "INFO:tensorflow:loss = 0.607661, step = 601 (0.075 sec)\n",
      "INFO:tensorflow:global_step/sec: 1373.17\n",
      "INFO:tensorflow:loss = 0.653116, step = 701 (0.072 sec)\n",
      "INFO:tensorflow:global_step/sec: 1385.26\n",
      "INFO:tensorflow:loss = 0.771855, step = 801 (0.072 sec)\n",
      "INFO:tensorflow:global_step/sec: 1252.82\n",
      "INFO:tensorflow:loss = 0.777525, step = 901 (0.080 sec)\n",
      "INFO:tensorflow:global_step/sec: 1440.78\n",
      "INFO:tensorflow:loss = 0.765908, step = 1001 (0.069 sec)\n",
      "INFO:tensorflow:global_step/sec: 1515.91\n",
      "INFO:tensorflow:loss = 0.635779, step = 1101 (0.066 sec)\n",
      "INFO:tensorflow:global_step/sec: 1516.01\n",
      "INFO:tensorflow:loss = 0.678793, step = 1201 (0.066 sec)\n",
      "INFO:tensorflow:global_step/sec: 1538.89\n",
      "INFO:tensorflow:loss = 0.68042, step = 1301 (0.066 sec)\n",
      "INFO:tensorflow:global_step/sec: 1643.37\n",
      "INFO:tensorflow:loss = 0.716723, step = 1401 (0.061 sec)\n",
      "INFO:tensorflow:global_step/sec: 1453.33\n",
      "INFO:tensorflow:loss = 0.721517, step = 1501 (0.068 sec)\n",
      "INFO:tensorflow:global_step/sec: 1470.95\n",
      "INFO:tensorflow:loss = 0.636618, step = 1601 (0.068 sec)\n",
      "INFO:tensorflow:global_step/sec: 1577.07\n",
      "INFO:tensorflow:loss = 0.83224, step = 1701 (0.062 sec)\n",
      "INFO:tensorflow:global_step/sec: 1566.27\n",
      "INFO:tensorflow:loss = 0.848357, step = 1801 (0.064 sec)\n",
      "INFO:tensorflow:global_step/sec: 1518.91\n",
      "INFO:tensorflow:loss = 0.657544, step = 1901 (0.066 sec)\n",
      "INFO:tensorflow:global_step/sec: 1491.63\n",
      "INFO:tensorflow:loss = 0.748667, step = 2001 (0.067 sec)\n",
      "INFO:tensorflow:global_step/sec: 1449.88\n",
      "INFO:tensorflow:loss = 0.708482, step = 2101 (0.070 sec)\n",
      "INFO:tensorflow:global_step/sec: 1462.47\n",
      "INFO:tensorflow:loss = 0.628652, step = 2201 (0.068 sec)\n",
      "INFO:tensorflow:global_step/sec: 1527.96\n",
      "INFO:tensorflow:loss = 0.630424, step = 2301 (0.066 sec)\n",
      "INFO:tensorflow:global_step/sec: 1473.57\n",
      "INFO:tensorflow:loss = 0.803198, step = 2401 (0.068 sec)\n",
      "INFO:tensorflow:global_step/sec: 1481.72\n",
      "INFO:tensorflow:loss = 0.756171, step = 2501 (0.067 sec)\n",
      "INFO:tensorflow:global_step/sec: 1478.49\n",
      "INFO:tensorflow:loss = 0.727354, step = 2601 (0.068 sec)\n",
      "INFO:tensorflow:global_step/sec: 1455.49\n",
      "INFO:tensorflow:loss = 0.712806, step = 2701 (0.069 sec)\n",
      "INFO:tensorflow:global_step/sec: 1470.63\n",
      "INFO:tensorflow:loss = 0.666826, step = 2801 (0.068 sec)\n",
      "INFO:tensorflow:global_step/sec: 1434.16\n",
      "INFO:tensorflow:loss = 0.831435, step = 2901 (0.070 sec)\n",
      "INFO:tensorflow:global_step/sec: 1522.73\n",
      "INFO:tensorflow:loss = 0.758298, step = 3001 (0.066 sec)\n",
      "INFO:tensorflow:global_step/sec: 1464.19\n",
      "INFO:tensorflow:loss = 0.673889, step = 3101 (0.068 sec)\n",
      "INFO:tensorflow:global_step/sec: 1396.31\n",
      "INFO:tensorflow:loss = 0.66147, step = 3201 (0.072 sec)\n",
      "INFO:tensorflow:global_step/sec: 1397.06\n",
      "INFO:tensorflow:loss = 0.68333, step = 3301 (0.071 sec)\n",
      "INFO:tensorflow:global_step/sec: 1441.65\n",
      "INFO:tensorflow:loss = 0.636671, step = 3401 (0.069 sec)\n",
      "INFO:tensorflow:global_step/sec: 1438.87\n",
      "INFO:tensorflow:loss = 0.643512, step = 3501 (0.069 sec)\n",
      "INFO:tensorflow:global_step/sec: 1543.97\n",
      "INFO:tensorflow:loss = 0.679178, step = 3601 (0.065 sec)\n",
      "INFO:tensorflow:global_step/sec: 1534.54\n",
      "INFO:tensorflow:loss = 0.707377, step = 3701 (0.065 sec)\n",
      "INFO:tensorflow:global_step/sec: 1499.63\n",
      "INFO:tensorflow:loss = 0.728092, step = 3801 (0.067 sec)\n",
      "INFO:tensorflow:global_step/sec: 1554.79\n",
      "INFO:tensorflow:loss = 0.676528, step = 3901 (0.064 sec)\n",
      "INFO:tensorflow:global_step/sec: 1562.22\n",
      "INFO:tensorflow:loss = 0.746195, step = 4001 (0.064 sec)\n",
      "INFO:tensorflow:global_step/sec: 1466.71\n",
      "INFO:tensorflow:loss = 0.666836, step = 4101 (0.068 sec)\n",
      "INFO:tensorflow:global_step/sec: 1432.81\n",
      "INFO:tensorflow:loss = 0.675776, step = 4201 (0.070 sec)\n",
      "INFO:tensorflow:global_step/sec: 1495.36\n",
      "INFO:tensorflow:loss = 0.675863, step = 4301 (0.067 sec)\n",
      "INFO:tensorflow:global_step/sec: 1481.12\n",
      "INFO:tensorflow:loss = 0.703113, step = 4401 (0.067 sec)\n",
      "INFO:tensorflow:global_step/sec: 1557.69\n",
      "INFO:tensorflow:loss = 0.730734, step = 4501 (0.064 sec)\n",
      "INFO:tensorflow:global_step/sec: 1513.75\n",
      "INFO:tensorflow:loss = 0.611369, step = 4601 (0.066 sec)\n",
      "INFO:tensorflow:global_step/sec: 1462.95\n",
      "INFO:tensorflow:loss = 0.694538, step = 4701 (0.068 sec)\n",
      "INFO:tensorflow:global_step/sec: 1418.97\n",
      "INFO:tensorflow:loss = 0.70872, step = 4801 (0.070 sec)\n",
      "INFO:tensorflow:global_step/sec: 1493.2\n",
      "INFO:tensorflow:loss = 0.718709, step = 4901 (0.067 sec)\n",
      "INFO:tensorflow:Saving checkpoints for 5000 into /tmp/tmpujzxk324/model.ckpt.\n",
      "INFO:tensorflow:Loss for final step: 0.769587.\n"
     ]
    },
    {
     "data": {
      "text/plain": [
       "<tensorflow.python.estimator.canned.dnn.DNNClassifier at 0x7f0134a836a0>"
      ]
     },
     "execution_count": 14,
     "metadata": {},
     "output_type": "execute_result"
    }
   ],
   "source": [
    " classifier.train(input_fn=train_input_fn,steps=5000)"
   ]
  },
  {
   "cell_type": "code",
   "execution_count": 15,
   "metadata": {},
   "outputs": [
    {
     "name": "stdout",
     "output_type": "stream",
     "text": [
      "WARNING:tensorflow:Casting <dtype: 'float32'> labels to bool.\n",
      "WARNING:tensorflow:Casting <dtype: 'float32'> labels to bool.\n",
      "INFO:tensorflow:Starting evaluation at 2018-08-15-20:28:14\n",
      "INFO:tensorflow:Restoring parameters from /tmp/tmpujzxk324/model.ckpt-5000\n",
      "INFO:tensorflow:Finished evaluation at 2018-08-15-20:30:24\n",
      "INFO:tensorflow:Saving dict for global step 5000: accuracy = 0.5, accuracy_baseline = 0.5, auc = 0.557994, auc_precision_recall = 0.562232, average_loss = 0.692503, global_step = 5000, label/mean = 0.5, loss = 0.692503, prediction/mean = 0.47544\n"
     ]
    }
   ],
   "source": [
    "accuracy_score = classifier.evaluate(input_fn=train_input_fn)[\"accuracy\"]"
   ]
  },
  {
   "cell_type": "code",
   "execution_count": 16,
   "metadata": {},
   "outputs": [
    {
     "data": {
      "text/plain": [
       "0.5"
      ]
     },
     "execution_count": 16,
     "metadata": {},
     "output_type": "execute_result"
    }
   ],
   "source": [
    "accuracy_score"
   ]
  }
 ],
 "metadata": {
  "kernelspec": {
   "display_name": "Python 3",
   "language": "python",
   "name": "python3"
  },
  "language_info": {
   "codemirror_mode": {
    "name": "ipython",
    "version": 3
   },
   "file_extension": ".py",
   "mimetype": "text/x-python",
   "name": "python",
   "nbconvert_exporter": "python",
   "pygments_lexer": "ipython3",
   "version": "3.6.3"
  }
 },
 "nbformat": 4,
 "nbformat_minor": 2
}
